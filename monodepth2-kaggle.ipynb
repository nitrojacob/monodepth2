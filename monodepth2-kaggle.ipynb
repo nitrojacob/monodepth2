{
 "cells": [
  {
   "cell_type": "markdown",
   "metadata": {},
   "source": [
    "Use the KITTI Eignen Dataset as input"
   ]
  },
  {
   "cell_type": "code",
   "execution_count": 1,
   "metadata": {
    "execution": {
     "iopub.execute_input": "2025-06-17T18:58:36.443108Z",
     "iopub.status.busy": "2025-06-17T18:58:36.442900Z",
     "iopub.status.idle": "2025-06-17T18:58:40.898724Z",
     "shell.execute_reply": "2025-06-17T18:58:40.898048Z",
     "shell.execute_reply.started": "2025-06-17T18:58:36.443082Z"
    }
   },
   "outputs": [
    {
     "name": "stdout",
     "output_type": "stream",
     "text": [
      "Collecting tensorboardX\n",
      "  Downloading tensorboardx-2.6.4-py3-none-any.whl.metadata (6.2 kB)\n",
      "Requirement already satisfied: numpy in /usr/local/lib/python3.11/dist-packages (from tensorboardX) (1.26.4)\n",
      "Requirement already satisfied: packaging in /usr/local/lib/python3.11/dist-packages (from tensorboardX) (25.0)\n",
      "Requirement already satisfied: protobuf>=3.20 in /usr/local/lib/python3.11/dist-packages (from tensorboardX) (3.20.3)\n",
      "Requirement already satisfied: mkl_fft in /usr/local/lib/python3.11/dist-packages (from numpy->tensorboardX) (1.3.8)\n",
      "Requirement already satisfied: mkl_random in /usr/local/lib/python3.11/dist-packages (from numpy->tensorboardX) (1.2.4)\n",
      "Requirement already satisfied: mkl_umath in /usr/local/lib/python3.11/dist-packages (from numpy->tensorboardX) (0.1.1)\n",
      "Requirement already satisfied: mkl in /usr/local/lib/python3.11/dist-packages (from numpy->tensorboardX) (2025.1.0)\n",
      "Requirement already satisfied: tbb4py in /usr/local/lib/python3.11/dist-packages (from numpy->tensorboardX) (2022.1.0)\n",
      "Requirement already satisfied: mkl-service in /usr/local/lib/python3.11/dist-packages (from numpy->tensorboardX) (2.4.1)\n",
      "Requirement already satisfied: intel-openmp<2026,>=2024 in /usr/local/lib/python3.11/dist-packages (from mkl->numpy->tensorboardX) (2024.2.0)\n",
      "Requirement already satisfied: tbb==2022.* in /usr/local/lib/python3.11/dist-packages (from mkl->numpy->tensorboardX) (2022.1.0)\n",
      "Requirement already satisfied: tcmlib==1.* in /usr/local/lib/python3.11/dist-packages (from tbb==2022.*->mkl->numpy->tensorboardX) (1.3.0)\n",
      "Requirement already satisfied: intel-cmplr-lib-rt in /usr/local/lib/python3.11/dist-packages (from mkl_umath->numpy->tensorboardX) (2024.2.0)\n",
      "Requirement already satisfied: intel-cmplr-lib-ur==2024.2.0 in /usr/local/lib/python3.11/dist-packages (from intel-openmp<2026,>=2024->mkl->numpy->tensorboardX) (2024.2.0)\n",
      "Downloading tensorboardx-2.6.4-py3-none-any.whl (87 kB)\n",
      "\u001b[2K   \u001b[90m━━━━━━━━━━━━━━━━━━━━━━━━━━━━━━━━━━━━━━━━\u001b[0m \u001b[32m87.2/87.2 kB\u001b[0m \u001b[31m4.0 MB/s\u001b[0m eta \u001b[36m0:00:00\u001b[0m\n",
      "\u001b[?25hInstalling collected packages: tensorboardX\n",
      "Successfully installed tensorboardX-2.6.4\n"
     ]
    }
   ],
   "source": [
    "!pip install tensorboardX"
   ]
  },
  {
   "cell_type": "code",
   "execution_count": 2,
   "metadata": {
    "execution": {
     "iopub.execute_input": "2025-06-17T18:58:40.900540Z",
     "iopub.status.busy": "2025-06-17T18:58:40.900327Z",
     "iopub.status.idle": "2025-06-17T18:58:42.393488Z",
     "shell.execute_reply": "2025-06-17T18:58:42.392837Z",
     "shell.execute_reply.started": "2025-06-17T18:58:40.900519Z"
    }
   },
   "outputs": [
    {
     "name": "stdout",
     "output_type": "stream",
     "text": [
      "--2025-06-17 18:58:40--  https://github.com/nitrojacob/monodepth2/archive/refs/heads/master.zip\n",
      "Resolving github.com (github.com)... 140.82.121.3\n",
      "Connecting to github.com (github.com)|140.82.121.3|:443... connected.\n",
      "HTTP request sent, awaiting response... 302 Found\n",
      "Location: https://codeload.github.com/nitrojacob/monodepth2/zip/refs/heads/master [following]\n",
      "--2025-06-17 18:58:41--  https://codeload.github.com/nitrojacob/monodepth2/zip/refs/heads/master\n",
      "Resolving codeload.github.com (codeload.github.com)... 140.82.121.9\n",
      "Connecting to codeload.github.com (codeload.github.com)|140.82.121.9|:443... connected.\n",
      "HTTP request sent, awaiting response... 200 OK\n",
      "Length: unspecified [application/zip]\n",
      "Saving to: ‘master.zip’\n",
      "\n",
      "master.zip              [   <=>              ]  10.10M  14.8MB/s    in 0.7s    \n",
      "\n",
      "2025-06-17 18:58:42 (14.8 MB/s) - ‘master.zip’ saved [10589597]\n",
      "\n",
      "Archive:  master.zip\n",
      "688b94c1e6ebbf21e2f6c997cd04cf3b4573b58d\n",
      "   creating: ./monodepth2-master/\n",
      "   creating: ./monodepth2-master/.github/\n",
      "   creating: ./monodepth2-master/.github/ISSUE_TEMPLATE/\n",
      "  inflating: ./monodepth2-master/.github/ISSUE_TEMPLATE/problem-training-on-kitti.md  \n",
      "  inflating: ./monodepth2-master/.github/ISSUE_TEMPLATE/training-on-custom-training-data.md  \n",
      "  inflating: ./monodepth2-master/.gitignore  \n",
      "  inflating: ./monodepth2-master/LICENSE  \n",
      "  inflating: ./monodepth2-master/README.md  \n",
      "  inflating: ./monodepth2-master/README_PYTHON311_REFACTOR.md  \n",
      "   creating: ./monodepth2-master/assets/\n",
      "  inflating: ./monodepth2-master/assets/copyright_notice.txt  \n",
      "  inflating: ./monodepth2-master/assets/teaser.gif  \n",
      "  inflating: ./monodepth2-master/assets/test_image.jpg  \n",
      "   creating: ./monodepth2-master/datasets/\n",
      "  inflating: ./monodepth2-master/datasets/__init__.py  \n",
      "  inflating: ./monodepth2-master/datasets/kitti_dataset.py  \n",
      "  inflating: ./monodepth2-master/datasets/mono_dataset.py  \n",
      "  inflating: ./monodepth2-master/depth_prediction_example.ipynb  \n",
      "  inflating: ./monodepth2-master/evaluate_depth.py  \n",
      "  inflating: ./monodepth2-master/evaluate_pose.py  \n",
      "   creating: ./monodepth2-master/experiments/\n",
      "  inflating: ./monodepth2-master/experiments/mono+stereo_experiments.sh  \n",
      "  inflating: ./monodepth2-master/experiments/mono_experiments.sh  \n",
      "  inflating: ./monodepth2-master/experiments/odom_experiments.sh  \n",
      "  inflating: ./monodepth2-master/experiments/stereo_experiments.sh  \n",
      "  inflating: ./monodepth2-master/export_gt_depth.py  \n",
      "  inflating: ./monodepth2-master/kitti_utils.py  \n",
      "  inflating: ./monodepth2-master/layers.py  \n",
      "  inflating: ./monodepth2-master/monodepth2-kaggle.ipynb  \n",
      "   creating: ./monodepth2-master/networks/\n",
      "  inflating: ./monodepth2-master/networks/__init__.py  \n",
      "  inflating: ./monodepth2-master/networks/depth_decoder.py  \n",
      "  inflating: ./monodepth2-master/networks/pose_cnn.py  \n",
      "  inflating: ./monodepth2-master/networks/pose_decoder.py  \n",
      "  inflating: ./monodepth2-master/networks/resnet_encoder.py  \n",
      "  inflating: ./monodepth2-master/options.py  \n",
      "   creating: ./monodepth2-master/splits/\n",
      "   creating: ./monodepth2-master/splits/benchmark/\n",
      "  inflating: ./monodepth2-master/splits/benchmark/eigen_to_benchmark_ids.npy  \n",
      "  inflating: ./monodepth2-master/splits/benchmark/test_files.txt  \n",
      "  inflating: ./monodepth2-master/splits/benchmark/train_files.txt  \n",
      "  inflating: ./monodepth2-master/splits/benchmark/val_files.txt  \n",
      "   creating: ./monodepth2-master/splits/eigen/\n",
      "  inflating: ./monodepth2-master/splits/eigen/test_files.txt  \n",
      "   creating: ./monodepth2-master/splits/eigen_benchmark/\n",
      "  inflating: ./monodepth2-master/splits/eigen_benchmark/test_files.txt  \n",
      "   creating: ./monodepth2-master/splits/eigen_full/\n",
      "  inflating: ./monodepth2-master/splits/eigen_full/train_files.txt  \n",
      "  inflating: ./monodepth2-master/splits/eigen_full/val_files.txt  \n",
      "   creating: ./monodepth2-master/splits/eigen_kaggle/\n",
      "  inflating: ./monodepth2-master/splits/eigen_kaggle/train_files.txt  \n",
      "  inflating: ./monodepth2-master/splits/eigen_kaggle/val_files.txt  \n",
      "   creating: ./monodepth2-master/splits/eigen_zhou/\n",
      "  inflating: ./monodepth2-master/splits/eigen_zhou/train_files.txt  \n",
      "  inflating: ./monodepth2-master/splits/eigen_zhou/val_files.txt  \n",
      "  inflating: ./monodepth2-master/splits/kitti_archives_to_download.txt  \n",
      "   creating: ./monodepth2-master/splits/odom/\n",
      "  inflating: ./monodepth2-master/splits/odom/test_files_09.txt  \n",
      "  inflating: ./monodepth2-master/splits/odom/test_files_10.txt  \n",
      "  inflating: ./monodepth2-master/splits/odom/train_files.txt  \n",
      "  inflating: ./monodepth2-master/splits/odom/val_files.txt  \n",
      "  inflating: ./monodepth2-master/test_realtime.py  \n",
      "  inflating: ./monodepth2-master/test_simple.py  \n",
      "  inflating: ./monodepth2-master/train.py  \n",
      "  inflating: ./monodepth2-master/trainer.py  \n",
      "  inflating: ./monodepth2-master/utils.py  \n",
      "['/kaggle/working/monodepth2-master/', '/kaggle/working', '/kaggle/lib/kagglegym', '/kaggle/lib', '/usr/lib/python311.zip', '/usr/lib/python3.11', '/usr/lib/python3.11/lib-dynload', '', '/usr/local/lib/python3.11/dist-packages', '/usr/lib/python3/dist-packages', '/usr/local/lib/python3.11/dist-packages/IPython/extensions', '/usr/local/lib/python3.11/dist-packages/setuptools/_vendor', '/root/.ipython']\n"
     ]
    }
   ],
   "source": [
    "!wget https://github.com/nitrojacob/monodepth2/archive/refs/heads/master.zip\n",
    "!unzip master.zip -d .\n",
    "import sys\n",
    "sys.path.insert(0, '/kaggle/working/monodepth2-master/')\n",
    "REPO_ROOT='/kaggle/working/monodepth2-master/'\n",
    "print(sys.path)"
   ]
  },
  {
   "cell_type": "code",
   "execution_count": 5,
   "metadata": {
    "_cell_guid": "b1076dfc-b9ad-4769-8c92-a6c4dae69d19",
    "_uuid": "8f2839f25d086af736a60e9eeb907d3b93b6e0e5",
    "execution": {
     "iopub.execute_input": "2025-06-17T19:11:26.064183Z",
     "iopub.status.busy": "2025-06-17T19:11:26.063884Z",
     "iopub.status.idle": "2025-06-17T23:25:28.617937Z",
     "shell.execute_reply": "2025-06-17T23:25:28.616945Z",
     "shell.execute_reply.started": "2025-06-17T19:11:26.064157Z"
    }
   },
   "outputs": [
    {
     "name": "stdout",
     "output_type": "stream",
     "text": [
      "🚀 Monodepth2 Modern - Python 3.11 Compatible\n",
      "==================================================\n",
      "✅ Options parsed successfully\n",
      "Training model named:\n",
      "   test_modern\n",
      "Models and tensorboard events files are saved to:\n",
      "   /root/tmp\n",
      "Training is using:\n",
      "   cuda\n",
      "Using split:\n",
      "   eigen_kaggle\n",
      "There are 36835 training items and 1454 validation items\n",
      "\n",
      "✅ Trainer initialized successfully\n",
      "🧪 Running quick test training...\n",
      "Training\n",
      "epoch   0 | batch      0 | examples/s:   6.1 | loss: 0.12662 | time elapsed: 00h00m11s | time left: 00h00m00s\n",
      "epoch   0 | batch    250 | examples/s:  12.8 | loss: 0.15105 | time elapsed: 00h01m38s | time left: 05h01m08s\n",
      "epoch   0 | batch    500 | examples/s:  23.3 | loss: 0.16746 | time elapsed: 00h03m05s | time left: 04h41m48s\n",
      "epoch   0 | batch    750 | examples/s:  11.5 | loss: 0.11594 | time elapsed: 00h04m30s | time left: 04h32m44s\n",
      "epoch   0 | batch   1000 | examples/s:  14.7 | loss: 0.11724 | time elapsed: 00h05m59s | time left: 04h29m47s\n",
      "epoch   0 | batch   1250 | examples/s:  11.4 | loss: 0.12052 | time elapsed: 00h07m22s | time left: 04h24m25s\n",
      "epoch   0 | batch   1500 | examples/s:   7.9 | loss: 0.10316 | time elapsed: 00h08m46s | time left: 04h20m37s\n",
      "epoch   0 | batch   1750 | examples/s:   6.8 | loss: 0.14573 | time elapsed: 00h10m12s | time left: 04h18m15s\n",
      "epoch   0 | batch   2000 | examples/s:  10.6 | loss: 0.10840 | time elapsed: 00h11m38s | time left: 04h16m15s\n",
      "epoch   0 | batch   4000 | examples/s:  13.6 | loss: 0.14508 | time elapsed: 00h22m31s | time left: 03h56m39s\n",
      "epoch   0 | batch   6000 | examples/s:  12.3 | loss: 0.10785 | time elapsed: 00h33m16s | time left: 03h42m00s\n",
      "epoch   0 | batch   8000 | examples/s:  11.0 | loss: 0.03805 | time elapsed: 00h44m09s | time left: 03h29m58s\n",
      "Training\n",
      "epoch   1 | batch    792 | examples/s:  11.7 | loss: 0.09563 | time elapsed: 00h55m05s | time left: 03h18m33s\n",
      "epoch   1 | batch   2792 | examples/s:  15.4 | loss: 0.09813 | time elapsed: 01h06m04s | time left: 03h07m24s\n",
      "epoch   1 | batch   4792 | examples/s:  13.1 | loss: 0.08053 | time elapsed: 01h17m08s | time left: 02h56m33s\n",
      "epoch   1 | batch   6792 | examples/s:  12.6 | loss: 0.09804 | time elapsed: 01h28m08s | time left: 02h45m29s\n",
      "epoch   1 | batch   8792 | examples/s:  11.5 | loss: 0.08732 | time elapsed: 01h39m12s | time left: 02h34m32s\n",
      "Training\n",
      "epoch   2 | batch   1584 | examples/s:  11.9 | loss: 0.10867 | time elapsed: 01h50m11s | time left: 02h23m27s\n",
      "epoch   2 | batch   3584 | examples/s:  11.4 | loss: 0.10462 | time elapsed: 02h01m23s | time left: 02h12m38s\n",
      "epoch   2 | batch   5584 | examples/s:  12.7 | loss: 0.07995 | time elapsed: 02h12m34s | time left: 02h01m45s\n",
      "epoch   2 | batch   7584 | examples/s:  12.3 | loss: 0.09308 | time elapsed: 02h23m41s | time left: 01h50m44s\n",
      "Training\n",
      "epoch   3 | batch    376 | examples/s:  11.2 | loss: 0.07456 | time elapsed: 02h34m51s | time left: 01h39m46s\n",
      "epoch   3 | batch   2376 | examples/s:  14.0 | loss: 0.08861 | time elapsed: 02h45m51s | time left: 01h28m40s\n",
      "epoch   3 | batch   4376 | examples/s:  10.4 | loss: 0.07506 | time elapsed: 02h56m44s | time left: 01h17m32s\n",
      "epoch   3 | batch   6376 | examples/s:  14.1 | loss: 0.07613 | time elapsed: 03h07m46s | time left: 01h06m29s\n",
      "epoch   3 | batch   8376 | examples/s:  11.9 | loss: 0.06610 | time elapsed: 03h18m46s | time left: 00h55m26s\n",
      "Training\n",
      "epoch   4 | batch   1168 | examples/s:  13.1 | loss: 0.07855 | time elapsed: 03h29m50s | time left: 00h44m23s\n",
      "epoch   4 | batch   3168 | examples/s:  17.3 | loss: 0.05546 | time elapsed: 03h40m51s | time left: 00h33m20s\n",
      "epoch   4 | batch   5168 | examples/s:  11.3 | loss: 0.11026 | time elapsed: 03h51m53s | time left: 00h22m18s\n",
      "epoch   4 | batch   7168 | examples/s:  11.5 | loss: 0.09493 | time elapsed: 04h02m47s | time left: 00h11m15s\n",
      "epoch   4 | batch   9168 | examples/s:  10.7 | loss: 0.05788 | time elapsed: 04h13m46s | time left: 00h00m13s\n",
      "✅ Training completed successfully!\n"
     ]
    }
   ],
   "source": [
    "from trainer import Trainer\n",
    "from options import MonodepthOptions\n",
    "\n",
    "if __name__ == \"__main__\":\n",
    "    # Test the modernized code\n",
    "    print(\"🚀 Monodepth2 Modern - Python 3.11 Compatible\")\n",
    "    print(\"=\" * 50)\n",
    "    \n",
    "    # Create test options\n",
    "    options = MonodepthOptions()\n",
    "    opts = options.parser.parse_args([ \n",
    "        '--data_path=/kaggle/input/kitti-eigen/kitti',\n",
    "        '--num_epochs=5',\n",
    "        '--batch_size=4',\n",
    "        '--split=eigen_kaggle',\n",
    "        '--model_name=test_modern',\n",
    "        '--log_dir=/kaggle/working/'\n",
    "    ])\n",
    "    \n",
    "    print(\"✅ Options parsed successfully\")\n",
    "    \n",
    "    # Initialize trainer\n",
    "    #try:\n",
    "    trainer = Trainer(opts)\n",
    "    print(\"✅ Trainer initialized successfully\")\n",
    "        \n",
    "    # Quick test training\n",
    "    print(\"🧪 Running quick test training...\")\n",
    "    trainer.train()\n",
    "    print(\"✅ Training completed successfully!\")\n",
    "        \n",
    "    #except Exception as e:\n",
    "        #print(f\"❌ Error: {str(e)}\")\n",
    "        #print(\"This might be due to missing data - the code structure is modernized and ready to use!\")"
   ]
  },
  {
   "cell_type": "code",
   "execution_count": 9,
   "metadata": {
    "execution": {
     "iopub.execute_input": "2025-06-17T23:58:36.162135Z",
     "iopub.status.busy": "2025-06-17T23:58:36.161549Z",
     "iopub.status.idle": "2025-06-17T23:58:36.678079Z",
     "shell.execute_reply": "2025-06-17T23:58:36.677500Z",
     "shell.execute_reply.started": "2025-06-17T23:58:36.162111Z"
    }
   },
   "outputs": [],
   "source": [
    "trainer.log_path = '/kaggle/working'\n",
    "trainer.save_model()"
   ]
  },
  {
   "cell_type": "code",
   "execution_count": 13,
   "metadata": {
    "execution": {
     "iopub.execute_input": "2025-06-18T00:02:49.864030Z",
     "iopub.status.busy": "2025-06-18T00:02:49.863270Z",
     "iopub.status.idle": "2025-06-18T00:03:06.361338Z",
     "shell.execute_reply": "2025-06-18T00:03:06.360386Z",
     "shell.execute_reply.started": "2025-06-18T00:02:49.864001Z"
    }
   },
   "outputs": [
    {
     "name": "stdout",
     "output_type": "stream",
     "text": [
      "updating: kaggle/working/models/ (stored 0%)\n",
      "  adding: kaggle/working/models/weights_4/ (stored 0%)\n",
      "  adding: kaggle/working/models/weights_4/pose.pth (deflated 8%)\n",
      "  adding: kaggle/working/models/weights_4/adam.pth (deflated 8%)\n",
      "  adding: kaggle/working/models/weights_4/depth.pth (deflated 7%)\n",
      "  adding: kaggle/working/models/weights_4/pose_encoder.pth (deflated 7%)\n",
      "  adding: kaggle/working/models/weights_4/encoder.pth (deflated 7%)\n"
     ]
    }
   ],
   "source": [
    "!zip -r /kaggle/working/models.zip /kaggle/working/models"
   ]
  },
  {
   "cell_type": "code",
   "execution_count": 14,
   "metadata": {
    "execution": {
     "iopub.execute_input": "2025-06-18T00:14:07.943707Z",
     "iopub.status.busy": "2025-06-18T00:14:07.943120Z",
     "iopub.status.idle": "2025-06-18T00:14:08.109221Z",
     "shell.execute_reply": "2025-06-18T00:14:08.108294Z",
     "shell.execute_reply.started": "2025-06-18T00:14:07.943667Z"
    }
   },
   "outputs": [
    {
     "name": "stdout",
     "output_type": "stream",
     "text": [
      "-rw-r--r-- 1 root root 300141914 Jun 18 00:03 /kaggle/working/models.zip\n"
     ]
    }
   ],
   "source": [
    "!ls -la /kaggle/working/models.zip"
   ]
  }
 ],
 "metadata": {
  "kaggle": {
   "accelerator": "gpu",
   "dataSources": [
    {
     "datasetId": 4964163,
     "sourceId": 8354554,
     "sourceType": "datasetVersion"
    }
   ],
   "dockerImageVersionId": 31040,
   "isGpuEnabled": true,
   "isInternetEnabled": true,
   "language": "python",
   "sourceType": "notebook"
  },
  "kernelspec": {
   "display_name": "Python 3 (ipykernel)",
   "language": "python",
   "name": "python3"
  },
  "language_info": {
   "codemirror_mode": {
    "name": "ipython",
    "version": 3
   },
   "file_extension": ".py",
   "mimetype": "text/x-python",
   "name": "python",
   "nbconvert_exporter": "python",
   "pygments_lexer": "ipython3",
   "version": "3.12.3"
  }
 },
 "nbformat": 4,
 "nbformat_minor": 4
}
